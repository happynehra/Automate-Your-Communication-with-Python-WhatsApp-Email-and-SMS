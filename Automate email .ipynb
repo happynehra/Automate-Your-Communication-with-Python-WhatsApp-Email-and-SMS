{
 "cells": [
  {
   "cell_type": "code",
   "execution_count": 1,
   "id": "1f4e5533",
   "metadata": {},
   "outputs": [
    {
     "name": "stdout",
     "output_type": "stream",
     "text": [
      "Email sent successfully!\n"
     ]
    }
   ],
   "source": [
    "import smtplib\n",
    "\n",
    "def send_email(sender_email, sender_password, receiver_email, subject, body):\n",
    "    try:\n",
    "        smtp_server = 'smtp.gmail.com'  \n",
    "        smtp_port = 465  \n",
    "\n",
    "        server = smtplib.SMTP_SSL(smtp_server, smtp_port)\n",
    "        server.login(sender_email, sender_password)\n",
    "\n",
    "        message = f\"Subject: {subject}\\n\\n{body}\"\n",
    "        server.sendmail(sender_email, receiver_email, message)\n",
    "\n",
    "        server.quit()\n",
    "        print(\"Email sent successfully!\")\n",
    "\n",
    "    except Exception as e:\n",
    "        print(\"Error sending email:\", e)\n",
    "\n",
    "# Example usage:\n",
    "sender_email = 'biographyblog7@gmail.com'\n",
    "sender_password = 'oksskbggwzkuandu'\n",
    "receiver_email = 'happyinsan17@gmail.com'\n",
    "subject = 'Test Email'\n",
    "body = 'Hello, I am happy insan.\\n How are you?'\n",
    "\n",
    "send_email(sender_email, sender_password, receiver_email, subject, body)"
   ]
  }
 ],
 "metadata": {
  "kernelspec": {
   "display_name": "Python 3 (ipykernel)",
   "language": "python",
   "name": "python3"
  },
  "language_info": {
   "codemirror_mode": {
    "name": "ipython",
    "version": 3
   },
   "file_extension": ".py",
   "mimetype": "text/x-python",
   "name": "python",
   "nbconvert_exporter": "python",
   "pygments_lexer": "ipython3",
   "version": "3.11.3"
  }
 },
 "nbformat": 4,
 "nbformat_minor": 5
}
