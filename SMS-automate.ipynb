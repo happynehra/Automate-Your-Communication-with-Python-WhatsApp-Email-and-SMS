{
 "cells": [
  {
   "cell_type": "code",
   "execution_count": 1,
   "id": "2cd624e2",
   "metadata": {},
   "outputs": [
    {
     "name": "stdout",
     "output_type": "stream",
     "text": [
      "Collecting twilio\n",
      "  Downloading twilio-8.5.0-py2.py3-none-any.whl (1.8 MB)\n",
      "\u001b[2K     \u001b[38;2;114;156;31m━━━━━━━━━━━━━━━━━━━━━━━━━━━━━━━━━━━━━━━━\u001b[0m \u001b[32m1.8/1.8 MB\u001b[0m \u001b[31m12.6 MB/s\u001b[0m eta \u001b[36m0:00:00\u001b[0m[36m0:00:01\u001b[0mm eta \u001b[36m0:00:01\u001b[0m\n",
      "\u001b[?25hRequirement already satisfied: pytz in /Users/happynehra/anaconda3/lib/python3.11/site-packages (from twilio) (2022.7)\n",
      "Requirement already satisfied: requests>=2.0.0 in /Users/happynehra/anaconda3/lib/python3.11/site-packages (from twilio) (2.29.0)\n",
      "Requirement already satisfied: PyJWT<3.0.0,>=2.0.0 in /Users/happynehra/anaconda3/lib/python3.11/site-packages (from twilio) (2.4.0)\n",
      "Collecting aiohttp>=3.8.4 (from twilio)\n",
      "  Downloading aiohttp-3.8.5-cp311-cp311-macosx_11_0_arm64.whl (339 kB)\n",
      "\u001b[2K     \u001b[38;2;114;156;31m━━━━━━━━━━━━━━━━━━━━━━━━━━━━━━━━━━━━━━\u001b[0m \u001b[32m339.6/339.6 kB\u001b[0m \u001b[31m28.6 MB/s\u001b[0m eta \u001b[36m0:00:00\u001b[0m\n",
      "\u001b[?25hCollecting aiohttp-retry>=2.8.3 (from twilio)\n",
      "  Downloading aiohttp_retry-2.8.3-py3-none-any.whl (9.8 kB)\n",
      "Requirement already satisfied: attrs>=17.3.0 in /Users/happynehra/anaconda3/lib/python3.11/site-packages (from aiohttp>=3.8.4->twilio) (22.1.0)\n",
      "Requirement already satisfied: charset-normalizer<4.0,>=2.0 in /Users/happynehra/anaconda3/lib/python3.11/site-packages (from aiohttp>=3.8.4->twilio) (2.0.4)\n",
      "Requirement already satisfied: multidict<7.0,>=4.5 in /Users/happynehra/anaconda3/lib/python3.11/site-packages (from aiohttp>=3.8.4->twilio) (6.0.2)\n",
      "Requirement already satisfied: async-timeout<5.0,>=4.0.0a3 in /Users/happynehra/anaconda3/lib/python3.11/site-packages (from aiohttp>=3.8.4->twilio) (4.0.2)\n",
      "Requirement already satisfied: yarl<2.0,>=1.0 in /Users/happynehra/anaconda3/lib/python3.11/site-packages (from aiohttp>=3.8.4->twilio) (1.8.1)\n",
      "Requirement already satisfied: frozenlist>=1.1.1 in /Users/happynehra/anaconda3/lib/python3.11/site-packages (from aiohttp>=3.8.4->twilio) (1.3.3)\n",
      "Requirement already satisfied: aiosignal>=1.1.2 in /Users/happynehra/anaconda3/lib/python3.11/site-packages (from aiohttp>=3.8.4->twilio) (1.2.0)\n",
      "Requirement already satisfied: idna<4,>=2.5 in /Users/happynehra/anaconda3/lib/python3.11/site-packages (from requests>=2.0.0->twilio) (3.4)\n",
      "Requirement already satisfied: urllib3<1.27,>=1.21.1 in /Users/happynehra/anaconda3/lib/python3.11/site-packages (from requests>=2.0.0->twilio) (1.26.16)\n",
      "Requirement already satisfied: certifi>=2017.4.17 in /Users/happynehra/anaconda3/lib/python3.11/site-packages (from requests>=2.0.0->twilio) (2023.5.7)\n",
      "Installing collected packages: aiohttp, aiohttp-retry, twilio\n",
      "  Attempting uninstall: aiohttp\n",
      "    Found existing installation: aiohttp 3.8.3\n",
      "    Uninstalling aiohttp-3.8.3:\n",
      "      Successfully uninstalled aiohttp-3.8.3\n",
      "Successfully installed aiohttp-3.8.5 aiohttp-retry-2.8.3 twilio-8.5.0\n",
      "Note: you may need to restart the kernel to use updated packages.\n"
     ]
    }
   ],
   "source": [
    "pip install twilio"
   ]
  },
  {
   "cell_type": "code",
   "execution_count": 16,
   "id": "b9e1b07a",
   "metadata": {},
   "outputs": [
    {
     "name": "stdout",
     "output_type": "stream",
     "text": [
      "SM896651d1e18ef28187e4192a12f8c721\n"
     ]
    }
   ],
   "source": [
    "from twilio.rest import Client\n",
    "\n",
    "# Your Account SID and Auth Token from console.twilio.com\n",
    "account_sid = \"ACXXXXXXXXXXXXXXXXXXXXXXXXXXXXXXXX\"\n",
    "auth_token  = \"your_auth_token\"\n",
    "\n",
    "client = Client(account_sid, auth_token)\n",
    "\n",
    "message = client.messages.create(\n",
    "    to=\"+15558675309\",\n",
    "    from_=\"+15017250604\",\n",
    "    body=\"Hello from Python!\")\n",
    "\n",
    "print(message.sid)"
   ]
  },
  {
   "cell_type": "code",
   "execution_count": null,
   "id": "2263a0e6",
   "metadata": {},
   "outputs": [],
   "source": []
  },
  {
   "cell_type": "code",
   "execution_count": null,
   "id": "cc66795b",
   "metadata": {},
   "outputs": [],
   "source": []
  }
 ],
 "metadata": {
  "kernelspec": {
   "display_name": "Python 3 (ipykernel)",
   "language": "python",
   "name": "python3"
  },
  "language_info": {
   "codemirror_mode": {
    "name": "ipython",
    "version": 3
   },
   "file_extension": ".py",
   "mimetype": "text/x-python",
   "name": "python",
   "nbconvert_exporter": "python",
   "pygments_lexer": "ipython3",
   "version": "3.11.3"
  }
 },
 "nbformat": 4,
 "nbformat_minor": 5
}
